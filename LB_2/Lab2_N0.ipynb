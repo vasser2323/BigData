{
 "cells": [
  {
   "cell_type": "code",
   "execution_count": 2,
   "metadata": {},
   "outputs": [],
   "source": [
    "import re\n",
    "from typing import List\n",
    "import os\n",
    "import pyspark.sql as sql\n",
    "from pyspark import SparkContext, SparkConf\n",
    "from pyspark.sql import SparkSession\n",
    "from pyspark.sql.window import Window\n",
    "from pyspark.sql.types import DoubleType, IntegerType, ArrayType, StringType\n",
    "from pyspark.sql.functions import udf, explode, rank, desc, col, max, sum, lower, countDistinct, regexp_extract, to_timestamp\n"
   ]
  },
  {
   "cell_type": "code",
   "execution_count": 3,
   "metadata": {},
   "outputs": [
    {
     "name": "stderr",
     "output_type": "stream",
     "text": [
      "23/12/06 23:02:56 WARN Utils: Your hostname, vasser232-desktop resolves to a loopback address: 127.0.1.1; using 192.168.1.116 instead (on interface enp6s0)\n",
      "23/12/06 23:02:56 WARN Utils: Set SPARK_LOCAL_IP if you need to bind to another address\n"
     ]
    },
    {
     "name": "stdout",
     "output_type": "stream",
     "text": [
      ":: loading settings :: url = jar:file:/home/vasser232/%d0%97%d0%b0%d0%b3%d1%80%d1%83%d0%b7%d0%ba%d0%b8/spark-3.5.0-bin-hadoop3/jars/ivy-2.5.1.jar!/org/apache/ivy/core/settings/ivysettings.xml\n"
     ]
    },
    {
     "name": "stderr",
     "output_type": "stream",
     "text": [
      "Ivy Default Cache set to: /home/vasser232/.ivy2/cache\n",
      "The jars for the packages stored in: /home/vasser232/.ivy2/jars\n",
      "com.databricks#spark-xml_2.12 added as a dependency\n",
      ":: resolving dependencies :: org.apache.spark#spark-submit-parent-3b785eb3-6752-4a6e-ba79-78a85efc3784;1.0\n",
      "\tconfs: [default]\n",
      "\tfound com.databricks#spark-xml_2.12;0.13.0 in central\n",
      "\tfound commons-io#commons-io;2.8.0 in central\n",
      "\tfound org.glassfish.jaxb#txw2;2.3.4 in central\n",
      "\tfound org.apache.ws.xmlschema#xmlschema-core;2.2.5 in central\n",
      ":: resolution report :: resolve 215ms :: artifacts dl 10ms\n",
      "\t:: modules in use:\n",
      "\tcom.databricks#spark-xml_2.12;0.13.0 from central in [default]\n",
      "\tcommons-io#commons-io;2.8.0 from central in [default]\n",
      "\torg.apache.ws.xmlschema#xmlschema-core;2.2.5 from central in [default]\n",
      "\torg.glassfish.jaxb#txw2;2.3.4 from central in [default]\n",
      "\t---------------------------------------------------------------------\n",
      "\t|                  |            modules            ||   artifacts   |\n",
      "\t|       conf       | number| search|dwnlded|evicted|| number|dwnlded|\n",
      "\t---------------------------------------------------------------------\n",
      "\t|      default     |   4   |   0   |   0   |   0   ||   4   |   0   |\n",
      "\t---------------------------------------------------------------------\n",
      ":: retrieving :: org.apache.spark#spark-submit-parent-3b785eb3-6752-4a6e-ba79-78a85efc3784\n",
      "\tconfs: [default]\n",
      "\t0 artifacts copied, 4 already retrieved (0kB/6ms)\n",
      "23/12/06 23:02:57 WARN NativeCodeLoader: Unable to load native-hadoop library for your platform... using builtin-java classes where applicable\n",
      "Setting default log level to \"WARN\".\n",
      "To adjust logging level use sc.setLogLevel(newLevel). For SparkR, use setLogLevel(newLevel).\n"
     ]
    }
   ],
   "source": [
    "spark = SparkSession \\\n",
    "    .builder \\\n",
    "    .appName(\"L2_reports_with_apache_spark\") \\\n",
    "    .config(\"spark.jars.packages\", \"com.databricks:spark-xml_2.12:0.13.0\")\\\n",
    "    .getOrCreate()"
   ]
  },
  {
   "cell_type": "code",
   "execution_count": 4,
   "metadata": {},
   "outputs": [
    {
     "data": {
      "text/plain": [
       "'3.5.0'"
      ]
     },
     "execution_count": 4,
     "metadata": {},
     "output_type": "execute_result"
    }
   ],
   "source": [
    "spark.version"
   ]
  },
  {
   "cell_type": "markdown",
   "metadata": {},
   "source": [
    "## Загрузка данных"
   ]
  },
  {
   "cell_type": "markdown",
   "metadata": {},
   "source": [
    "### Указание путей с файлами datasets"
   ]
  },
  {
   "cell_type": "code",
   "execution_count": 5,
   "metadata": {},
   "outputs": [],
   "source": [
    "posts_path = os.path.join(\"posts_sample.xml\")\n",
    "prog_lang_path = os.path.join(\"programming-languages.csv\")"
   ]
  },
  {
   "cell_type": "markdown",
   "metadata": {},
   "source": [
    "### Чтение данных о постах Stack Overflow"
   ]
  },
  {
   "cell_type": "code",
   "execution_count": 6,
   "metadata": {},
   "outputs": [
    {
     "name": "stderr",
     "output_type": "stream",
     "text": [
      "                                                                                \r"
     ]
    },
    {
     "name": "stdout",
     "output_type": "stream",
     "text": [
      "Posts\n",
      "root\n",
      " |-- _AcceptedAnswerId: long (nullable = true)\n",
      " |-- _AnswerCount: long (nullable = true)\n",
      " |-- _Body: string (nullable = true)\n",
      " |-- _ClosedDate: timestamp (nullable = true)\n",
      " |-- _CommentCount: long (nullable = true)\n",
      " |-- _CommunityOwnedDate: timestamp (nullable = true)\n",
      " |-- _CreationDate: timestamp (nullable = true)\n",
      " |-- _FavoriteCount: long (nullable = true)\n",
      " |-- _Id: long (nullable = true)\n",
      " |-- _LastActivityDate: timestamp (nullable = true)\n",
      " |-- _LastEditDate: timestamp (nullable = true)\n",
      " |-- _LastEditorDisplayName: string (nullable = true)\n",
      " |-- _LastEditorUserId: long (nullable = true)\n",
      " |-- _OwnerDisplayName: string (nullable = true)\n",
      " |-- _OwnerUserId: long (nullable = true)\n",
      " |-- _ParentId: long (nullable = true)\n",
      " |-- _PostTypeId: long (nullable = true)\n",
      " |-- _Score: long (nullable = true)\n",
      " |-- _Tags: string (nullable = true)\n",
      " |-- _Title: string (nullable = true)\n",
      " |-- _ViewCount: long (nullable = true)\n",
      "\n"
     ]
    }
   ],
   "source": [
    "posts_data = spark.read.format(\"xml\").options(rowTag=\"row\").load(posts_path)\n",
    "print(\"Posts\")\n",
    "posts_data.printSchema()"
   ]
  },
  {
   "cell_type": "code",
   "execution_count": 7,
   "metadata": {},
   "outputs": [
    {
     "name": "stdout",
     "output_type": "stream",
     "text": [
      "programming-languages\n",
      "root\n",
      " |-- name: string (nullable = true)\n",
      " |-- wikipedia_url: string (nullable = true)\n",
      "\n"
     ]
    }
   ],
   "source": [
    "prog_lang_data = (\n",
    "    spark.read.option(\"header\", True)\n",
    "    .option(\"inferSchema\", True)\n",
    "    .option(\"timestampFormat\", \"M/d/y H:m\")\n",
    "    .csv(prog_lang_path)\n",
    ")\n",
    "\n",
    "print(\"programming-languages\")\n",
    "prog_lang_data.printSchema()"
   ]
  },
  {
   "cell_type": "markdown",
   "metadata": {},
   "source": [
    "## Работа с данными"
   ]
  },
  {
   "cell_type": "markdown",
   "metadata": {},
   "source": [
    "### Выбор необходимых столбцов"
   ]
  },
  {
   "cell_type": "code",
   "execution_count": 8,
   "metadata": {},
   "outputs": [],
   "source": [
    "def get_tags(tags_string):\n",
    "    if tags_string is None:\n",
    "        return []\n",
    "    \n",
    "    pattern = r'<(.+?)>'\n",
    "    tags = re.findall(pattern, tags_string)\n",
    "    \n",
    "    return tags\n",
    "\n",
    "def get_year(date_and_time):\n",
    "    return date_and_time.year\n",
    "\n",
    "get_tags_udf = udf(get_tags, ArrayType(StringType()))\n",
    "get_year_udf = udf(get_year, IntegerType())"
   ]
  },
  {
   "cell_type": "code",
   "execution_count": 9,
   "metadata": {},
   "outputs": [
    {
     "name": "stderr",
     "output_type": "stream",
     "text": [
      "[Stage 3:>                                                          (0 + 1) / 1]\r"
     ]
    },
    {
     "name": "stdout",
     "output_type": "stream",
     "text": [
      "+--------------------+----+------+\n",
      "|                tags|year| views|\n",
      "+--------------------+----+------+\n",
      "|[c#, floating-poi...|2019| 42817|\n",
      "|[html, css, inter...|2019| 18214|\n",
      "|                  []|2017|  NULL|\n",
      "|[c#, .net, datetime]|2019|555183|\n",
      "|[c#, datetime, ti...|2019|149445|\n",
      "|                  []|2018|  NULL|\n",
      "|[html, browser, t...|2019|176405|\n",
      "|        [.net, math]|2018|123231|\n",
      "|                  []|2010|  NULL|\n",
      "|                  []|2010|  NULL|\n",
      "|                  []|2010|  NULL|\n",
      "|                  []|2010|  NULL|\n",
      "|                  []|2010|  NULL|\n",
      "|                  []|2010|  NULL|\n",
      "|                  []|2010|  NULL|\n",
      "|                  []|2010|  NULL|\n",
      "|                  []|2010|  NULL|\n",
      "|                  []|2010|  NULL|\n",
      "|                  []|2013|  NULL|\n",
      "|                  []|2010|  NULL|\n",
      "+--------------------+----+------+\n",
      "only showing top 20 rows\n",
      "\n"
     ]
    },
    {
     "name": "stderr",
     "output_type": "stream",
     "text": [
      "                                                                                \r"
     ]
    }
   ],
   "source": [
    "# Применение функций к столбцам DataFrame\n",
    "posts_data_simplified = posts_data.withColumn(\n",
    "    \"tags\", get_tags_udf(col(\"_Tags\"))\n",
    ").withColumn(\"year\", get_year_udf(col(\"_LastActivityDate\")))\n",
    "\n",
    "# Выбор нужных столбцов\n",
    "posts_data_simplified = posts_data_simplified.select(\n",
    "    col(\"tags\"), col(\"year\"), col(\"_ViewCount\").alias(\"views\")\n",
    ")\n",
    "\n",
    "# Отображение полученных данных\n",
    "posts_data_simplified.show()"
   ]
  },
  {
   "cell_type": "markdown",
   "metadata": {},
   "source": [
    "### Удаление тегов, не соответствующих языкам программирования"
   ]
  },
  {
   "cell_type": "code",
   "execution_count": 10,
   "metadata": {},
   "outputs": [
    {
     "name": "stderr",
     "output_type": "stream",
     "text": [
      "[Stage 5:>                                                          (0 + 1) / 1]\r"
     ]
    },
    {
     "name": "stdout",
     "output_type": "stream",
     "text": [
      "+----+-----------+-----+\n",
      "|year|        tag|views|\n",
      "+----+-----------+-----+\n",
      "|2010|       java|  132|\n",
      "|2010|        php| 1258|\n",
      "|2015|       ruby| 9649|\n",
      "|2010|          c| 2384|\n",
      "|2015|        php| 1987|\n",
      "|2010|     python| 3321|\n",
      "|2010| javascript|  128|\n",
      "|2010|applescript|  477|\n",
      "|2010|        php| 1748|\n",
      "|2010|        php|  998|\n",
      "|2013| javascript| 2095|\n",
      "|2010|        sed|  447|\n",
      "|2015|     python| 6558|\n",
      "|2015|       java|  214|\n",
      "|2015|       ruby|  214|\n",
      "|2013|objective-c|  852|\n",
      "|2010| javascript|  179|\n",
      "|2010|          r| 6709|\n",
      "|2010|        php|   78|\n",
      "|2010| javascript| 1280|\n",
      "+----+-----------+-----+\n",
      "only showing top 20 rows\n",
      "\n"
     ]
    },
    {
     "name": "stderr",
     "output_type": "stream",
     "text": [
      "                                                                                \r"
     ]
    }
   ],
   "source": [
    "# Преобразование названий языков программирования в нижний регистр\n",
    "prog_lang_data_modified = prog_lang_data.withColumn(\"tag_lowercase\", lower(prog_lang_data[\"name\"]))\n",
    "\n",
    "# Разделение массива тегов на отдельные строки\n",
    "posts_data_exploded = posts_data_simplified.select(\"year\", explode(\"tags\").alias(\"tag\"), \"views\")\n",
    "\n",
    "# Присоединение таблицы языков программирования для фильтрации постов по языку\n",
    "posts_data_filtered = posts_data_exploded.join(\n",
    "    prog_lang_data_modified,\n",
    "    (posts_data_exploded[\"tag\"] == prog_lang_data_modified[\"tag_lowercase\"]),\n",
    "    \"inner\"\n",
    ")\n",
    "\n",
    "# Выбор нужных столбцов\n",
    "posts_data_filtered = posts_data_filtered.select(\"year\", \"tag\", \"views\")\n",
    "\n",
    "# Отображение результата\n",
    "posts_data_filtered.show()"
   ]
  },
  {
   "cell_type": "markdown",
   "metadata": {},
   "source": [
    "### Подготовка к отчету"
   ]
  },
  {
   "cell_type": "code",
   "execution_count": 11,
   "metadata": {},
   "outputs": [
    {
     "name": "stderr",
     "output_type": "stream",
     "text": [
      "[Stage 7:=======================================>                   (2 + 1) / 3]\r"
     ]
    },
    {
     "name": "stdout",
     "output_type": "stream",
     "text": [
      "+----+------------+-----------+\n",
      "|year|         tag|total_views|\n",
      "+----+------------+-----------+\n",
      "|2008|        java|      11532|\n",
      "|2008|        ruby|       1843|\n",
      "|2008|         x++|       1363|\n",
      "|2009|      python|      32219|\n",
      "|2009|  javascript|      17139|\n",
      "|2009|           c|      16356|\n",
      "|2009|        java|      13533|\n",
      "|2009|         php|      12876|\n",
      "|2009|        bash|       4410|\n",
      "|2009|     haskell|       3992|\n",
      "|2009|       xpath|       3869|\n",
      "|2009| objective-c|       3671|\n",
      "|2009|      delphi|       3477|\n",
      "|2009|        ruby|       2844|\n",
      "|2009|  powershell|        536|\n",
      "|2009|actionscript|        318|\n",
      "|2010|        java|      53333|\n",
      "|2010|      matlab|      51865|\n",
      "|2010| objective-c|      43878|\n",
      "|2010|         php|      39730|\n",
      "+----+------------+-----------+\n",
      "only showing top 20 rows\n",
      "\n"
     ]
    },
    {
     "name": "stderr",
     "output_type": "stream",
     "text": [
      "                                                                                \r"
     ]
    }
   ],
   "source": [
    "# Группировка по году и тегам, с суммированием просмотров\n",
    "grouped_data = posts_data_filtered.groupBy(\"year\", \"tag\").agg(sum(\"views\").alias(\"total_views\"))\n",
    "\n",
    "# Сортировка по году и количеству просмотров\n",
    "sorted_data = grouped_data.orderBy(\"year\", col(\"total_views\").desc())\n",
    "\n",
    "# Отображение результата\n",
    "sorted_data.show()"
   ]
  },
  {
   "cell_type": "markdown",
   "metadata": {},
   "source": [
    "### Итоговый отчет (N самых популярных языков программирования за год)"
   ]
  },
  {
   "cell_type": "code",
   "execution_count": 22,
   "metadata": {},
   "outputs": [
    {
     "name": "stderr",
     "output_type": "stream",
     "text": [
      "                                                                                \r"
     ]
    }
   ],
   "source": [
    "from pyspark.sql.functions import col\n",
    "\n",
    "# Группировка и суммирование просмотров по году и тегам\n",
    "posts_data_sorted = posts_data_filtered.groupBy(\"year\", \"tag\").agg(sum(\"views\").alias(\"total_views\"))\n",
    "\n",
    "# Сортировка по году и общему количеству просмотров\n",
    "posts_data_sorted = posts_data_sorted.orderBy(\"year\", desc(\"total_views\"))\n",
    "\n",
    "# Разбиение по годам и сохранение в отдельные файлы\n",
    "languages_per_year = 10\n",
    "\n",
    "# Перебор по годам для сохранения данных в отдельные файлы\n",
    "for year in posts_data_sorted.select(\"year\").distinct().collect():\n",
    "    year = year[\"year\"]\n",
    "    year_data = posts_data_sorted.filter(col(\"year\") == year)\n",
    "\n",
    "    # Определение пути для сохранения данных по текущему году\n",
    "    output_path_year = f\"/media/vasser232/System/output/{year}\"\n",
    "    \n",
    "    # Разбиение по году и сохранение в формате Parquet\n",
    "    year_data.write.partitionBy(\"year\").format(\"parquet\").save(output_path_year)\n"
   ]
  },
  {
   "cell_type": "code",
   "execution_count": 24,
   "metadata": {},
   "outputs": [
    {
     "data": {
      "text/html": [
       "<div>\n",
       "<style scoped>\n",
       "    .dataframe tbody tr th:only-of-type {\n",
       "        vertical-align: middle;\n",
       "    }\n",
       "\n",
       "    .dataframe tbody tr th {\n",
       "        vertical-align: top;\n",
       "    }\n",
       "\n",
       "    .dataframe thead th {\n",
       "        text-align: right;\n",
       "    }\n",
       "</style>\n",
       "<table border=\"1\" class=\"dataframe\">\n",
       "  <thead>\n",
       "    <tr style=\"text-align: right;\">\n",
       "      <th></th>\n",
       "      <th>tag</th>\n",
       "      <th>total_views</th>\n",
       "    </tr>\n",
       "  </thead>\n",
       "  <tbody>\n",
       "    <tr>\n",
       "      <th>0</th>\n",
       "      <td>python</td>\n",
       "      <td>32219</td>\n",
       "    </tr>\n",
       "    <tr>\n",
       "      <th>1</th>\n",
       "      <td>javascript</td>\n",
       "      <td>17139</td>\n",
       "    </tr>\n",
       "    <tr>\n",
       "      <th>2</th>\n",
       "      <td>c</td>\n",
       "      <td>16356</td>\n",
       "    </tr>\n",
       "    <tr>\n",
       "      <th>3</th>\n",
       "      <td>java</td>\n",
       "      <td>13533</td>\n",
       "    </tr>\n",
       "    <tr>\n",
       "      <th>4</th>\n",
       "      <td>php</td>\n",
       "      <td>12876</td>\n",
       "    </tr>\n",
       "    <tr>\n",
       "      <th>5</th>\n",
       "      <td>bash</td>\n",
       "      <td>4410</td>\n",
       "    </tr>\n",
       "    <tr>\n",
       "      <th>6</th>\n",
       "      <td>haskell</td>\n",
       "      <td>3992</td>\n",
       "    </tr>\n",
       "    <tr>\n",
       "      <th>7</th>\n",
       "      <td>xpath</td>\n",
       "      <td>3869</td>\n",
       "    </tr>\n",
       "    <tr>\n",
       "      <th>8</th>\n",
       "      <td>objective-c</td>\n",
       "      <td>3671</td>\n",
       "    </tr>\n",
       "    <tr>\n",
       "      <th>9</th>\n",
       "      <td>delphi</td>\n",
       "      <td>3477</td>\n",
       "    </tr>\n",
       "    <tr>\n",
       "      <th>10</th>\n",
       "      <td>ruby</td>\n",
       "      <td>2844</td>\n",
       "    </tr>\n",
       "    <tr>\n",
       "      <th>11</th>\n",
       "      <td>powershell</td>\n",
       "      <td>536</td>\n",
       "    </tr>\n",
       "    <tr>\n",
       "      <th>12</th>\n",
       "      <td>actionscript</td>\n",
       "      <td>318</td>\n",
       "    </tr>\n",
       "  </tbody>\n",
       "</table>\n",
       "</div>"
      ],
      "text/plain": [
       "             tag  total_views\n",
       "0         python        32219\n",
       "1     javascript        17139\n",
       "2              c        16356\n",
       "3           java        13533\n",
       "4            php        12876\n",
       "5           bash         4410\n",
       "6        haskell         3992\n",
       "7          xpath         3869\n",
       "8    objective-c         3671\n",
       "9         delphi         3477\n",
       "10          ruby         2844\n",
       "11    powershell          536\n",
       "12  actionscript          318"
      ]
     },
     "execution_count": 24,
     "metadata": {},
     "output_type": "execute_result"
    }
   ],
   "source": [
    "import pandas as pd\n",
    "df = pd.read_parquet(\"/media/vasser232/System/output/2009/year=2009/part-00000-0f424b57-b3a6-4106-ade6-40c602a2e3ac.c000.snappy.parquet\")\n",
    "df"
   ]
  },
  {
   "cell_type": "code",
   "execution_count": null,
   "metadata": {},
   "outputs": [],
   "source": []
  }
 ],
 "metadata": {
  "kernelspec": {
   "display_name": "Python 3",
   "language": "python",
   "name": "python3"
  },
  "language_info": {
   "codemirror_mode": {
    "name": "ipython",
    "version": 3
   },
   "file_extension": ".py",
   "mimetype": "text/x-python",
   "name": "python",
   "nbconvert_exporter": "python",
   "pygments_lexer": "ipython3",
   "version": "3.10.12"
  }
 },
 "nbformat": 4,
 "nbformat_minor": 2
}
